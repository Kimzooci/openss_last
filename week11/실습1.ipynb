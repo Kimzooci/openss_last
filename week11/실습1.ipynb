{
  "cells": [
    {
      "cell_type": "markdown",
      "metadata": {
        "id": "LfNaH3TXLuzq"
      },
      "source": [
        "# Iris Dataset을 활용한 실습\n",
        "\n",
        "## k-Nearest Neighbor를 활용하여 분류 문제를 해결\n",
        "\n",
        "### 1. 필요한 패키지를 Import"
      ]
    },
    {
      "cell_type": "code",
      "source": [
        "from google.colab import drive\n",
        "drive.mount('/content/drive')"
      ],
      "metadata": {
        "id": "lyCevfi3MBAb"
      },
      "execution_count": null,
      "outputs": []
    },
    {
      "cell_type": "code",
      "execution_count": null,
      "metadata": {
        "id": "b4czmb7oLuzq"
      },
      "outputs": [],
      "source": [
        "import numpy as np\n",
        "import pandas as pd\n",
        "import seaborn as sns\n",
        "import matplotlib.pyplot as plt\n",
        "from sklearn.model_selection import train_test_split\n",
        "from sklearn.model_selection import KFold\n",
        "from sklearn.neighbors import KNeighborsClassifier\n",
        "from sklearn.metrics import accuracy_score\n",
        "\n",
        "# set random seed\n",
        "np.random.seed(20)"
      ]
    },
    {
      "cell_type": "markdown",
      "metadata": {
        "id": "sX-k6C3ELuzr"
      },
      "source": [
        "### 2. 데이터 불러오기 및 시각화"
      ]
    },
    {
      "cell_type": "code",
      "execution_count": null,
      "metadata": {
        "id": "-OSeGr1ALuzr"
      },
      "outputs": [],
      "source": [
        "# load iris.csv from ./data/iris.csv\n",
        "df = pd.read_csv('/content/drive/MyDrive/Colab Notebooks/opensource/week11/Iris_Data.csv')\n",
        "# 상위 5개 데이터 출력\n",
        "print(df.head())"
      ]
    },
    {
      "cell_type": "code",
      "execution_count": null,
      "metadata": {
        "id": "yC3VlBvXLuzs"
      },
      "outputs": [],
      "source": [
        "# visualize the data\n",
        "sns.pairplot(df, hue='species')\n",
        "plt.show()"
      ]
    },
    {
      "cell_type": "markdown",
      "metadata": {
        "id": "mO7slSweLuzs"
      },
      "source": [
        "### 3. 데이터에서 정답을 분리, 모델 선언\n",
        "k-Nearest Neighbor에서 k값은 1, 3, 5로 설정\n",
        "\n",
        "데이터를 (학습 + 검증 데이터셋) (테스트 데이터셋)으로 분리"
      ]
    },
    {
      "cell_type": "code",
      "execution_count": null,
      "metadata": {
        "id": "7R_kFhSOLuzs"
      },
      "outputs": [],
      "source": [
        "# split data into features and labels\n",
        "X = df.drop('species', axis=1)\n",
        "y = df['species']\n",
        "\n",
        "# create a k-nearest neighbors classifier\n",
        "knn_one = KNeighborsClassifier(n_neighbors=1)\n",
        "knn_three = KNeighborsClassifier(n_neighbors=3)\n",
        "knn_five = KNeighborsClassifier(n_neighbors=5)\n",
        "\n",
        "X_train_val, X_test, y_train_val, y_test = train_test_split(X, y, test_size=0.2, random_state=20)\n"
      ]
    },
    {
      "cell_type": "markdown",
      "metadata": {
        "id": "ewiFRC63Luzs"
      },
      "source": [
        "### 4. 시나리오 (1) : Holdout Cross-validation\n",
        "75% 학습 데이터셋, 25% 검증 데이터셋\n",
        "10번 반복 실험하여 정확도의 평균을 계산"
      ]
    },
    {
      "cell_type": "code",
      "execution_count": null,
      "metadata": {
        "id": "keZfHcSULuzs"
      },
      "outputs": [],
      "source": [
        "repeat = 10\n",
        "accuracy_one = np.zeros(repeat)\n",
        "accuracy_three = np.zeros(repeat)\n",
        "accuracy_five = np.zeros(repeat)\n",
        "\n",
        "for i in range(repeat):\n",
        "    # random_state=42\n",
        "    X_train, X_val, y_train, y_val = train_test_split(X_train_val, y_train_val, test_size=0.25, random_state=20)\n",
        "\n",
        "    # train the classifier\n",
        "    knn_one.fit(X_train, y_train)\n",
        "    knn_three.fit(X_train, y_train)\n",
        "    knn_five.fit(X_train, y_train)\n",
        "\n",
        "    # make predictions\n",
        "    y_pred_one = knn_one.predict(X_val)\n",
        "    y_pred_three = knn_three.predict(X_val)\n",
        "    y_pred_five = knn_five.predict(X_val)\n",
        "\n",
        "    # calculate accuracy\n",
        "    accuracy_one[i] = accuracy_score(y_val, y_pred_one)\n",
        "    accuracy_three[i] = accuracy_score(y_val, y_pred_three)\n",
        "    accuracy_five[i] = accuracy_score(y_val, y_pred_five)\n",
        "\n",
        "print('K=1 Accuracy:', accuracy_one.mean())\n",
        "print('K=3 Accuracy:', accuracy_three.mean())\n",
        "print('K=5 Accuracy:', accuracy_five.mean())\n"
      ]
    },
    {
      "cell_type": "markdown",
      "metadata": {
        "id": "R5vEfCRLLuzt"
      },
      "source": [
        "테스트 데이터셋에서의 정확도를 평가하여 모델 일반화 능력을 평가"
      ]
    },
    {
      "cell_type": "code",
      "execution_count": null,
      "metadata": {
        "id": "3nIhYEl3Luzt"
      },
      "outputs": [],
      "source": [
        "# train the classifier\n",
        "knn_one.fit(X_train_val, y_train_val)\n",
        "test_accuracy = accuracy_score(y_test, knn_one.predict(X_test))\n",
        "print('Test Accuracy:', test_accuracy)"
      ]
    },
    {
      "cell_type": "markdown",
      "metadata": {
        "id": "uAO7yoc4Luzt"
      },
      "source": [
        "### 4. 시나리오 (2) : K-Fold Cross-validation\n",
        "K값을 10으로 설정하여 실험"
      ]
    },
    {
      "cell_type": "code",
      "execution_count": null,
      "metadata": {
        "id": "PUkkIIa4Luzt"
      },
      "outputs": [],
      "source": [
        "# k fold cross validation with k=10\n",
        "kf = KFold(n_splits=10, shuffle=True, random_state=20)\n",
        "accuracy_one = np.zeros(10)\n",
        "accuracy_three = np.zeros(10)\n",
        "accuracy_five = np.zeros(10)\n",
        "\n",
        "for i, (train_index, val_index) in enumerate(kf.split(X_train_val)):\n",
        "    X_train, X_val = X_train_val.iloc[train_index], X_train_val.iloc[val_index]\n",
        "    y_train, y_val = y_train_val.iloc[train_index], y_train_val.iloc[val_index]\n",
        "\n",
        "    knn_one.fit(X_train, y_train)\n",
        "    knn_three.fit(X_train, y_train)\n",
        "    knn_five.fit(X_train, y_train)\n",
        "\n",
        "    y_pred_one = knn_one.predict(X_val)\n",
        "    y_pred_three = knn_three.predict(X_val)\n",
        "    y_pred_five = knn_five.predict(X_val)\n",
        "\n",
        "    accuracy_one[i] = accuracy_score(y_val, y_pred_one)\n",
        "    accuracy_three[i] = accuracy_score(y_val, y_pred_three)\n",
        "    accuracy_five[i] = accuracy_score(y_val, y_pred_five)\n",
        "\n",
        "print('K=1 Accuracy:', accuracy_one.mean())\n",
        "print('K=3 Accuracy:', accuracy_three.mean())\n",
        "print('K=5 Accuracy:', accuracy_five.mean())"
      ]
    },
    {
      "cell_type": "markdown",
      "metadata": {
        "id": "8cmFXH-KLuzt"
      },
      "source": [
        "테스트 데이터셋에서의 정확도를 평가하여 모델 일반화 능력을 평가"
      ]
    },
    {
      "cell_type": "code",
      "execution_count": null,
      "metadata": {
        "id": "Paeg4IRILuzt"
      },
      "outputs": [],
      "source": [
        "# train the classifier\n",
        "knn_one.fit(X_train_val, y_train_val)\n",
        "test_accuracy = accuracy_score(y_test, knn_one.predict(X_test))\n",
        "print('Test Accuracy:', test_accuracy)"
      ]
    }
  ],
  "metadata": {
    "kernelspec": {
      "display_name": "Python 3",
      "language": "python",
      "name": "python3"
    },
    "language_info": {
      "codemirror_mode": {
        "name": "ipython",
        "version": 3
      },
      "file_extension": ".py",
      "mimetype": "text/x-python",
      "name": "python",
      "nbconvert_exporter": "python",
      "pygments_lexer": "ipython3",
      "version": "3.10.9"
    },
    "colab": {
      "provenance": []
    }
  },
  "nbformat": 4,
  "nbformat_minor": 0
}